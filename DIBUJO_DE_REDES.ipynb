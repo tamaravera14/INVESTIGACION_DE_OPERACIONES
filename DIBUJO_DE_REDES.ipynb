{
  "nbformat": 4,
  "nbformat_minor": 0,
  "metadata": {
    "colab": {
      "provenance": [],
      "authorship_tag": "ABX9TyM3oetFO4EpJpJA0yxf5NWI",
      "include_colab_link": true
    },
    "kernelspec": {
      "name": "python3",
      "display_name": "Python 3"
    },
    "language_info": {
      "name": "python"
    }
  },
  "cells": [
    {
      "cell_type": "markdown",
      "metadata": {
        "id": "view-in-github",
        "colab_type": "text"
      },
      "source": [
        "<a href=\"https://colab.research.google.com/github/tamaravera14/INVESTIGACION_DE_OPERACIONES/blob/main/DIBUJO_DE_REDES.ipynb\" target=\"_parent\"><img src=\"https://colab.research.google.com/assets/colab-badge.svg\" alt=\"Open In Colab\"/></a>"
      ]
    },
    {
      "cell_type": "markdown",
      "source": [
        "# **Dibujo de redes**\n",
        "---\n",
        "*Bazaldua Vera Tamara Alheli*"
      ],
      "metadata": {
        "id": "-0hMa3dSem_Q"
      }
    },
    {
      "cell_type": "markdown",
      "source": [
        "Dicha librería sirve para crear, analizar y visualizar networks y gráficas complejos."
      ],
      "metadata": {
        "id": "_ACSnb4ofHFc"
      }
    },
    {
      "cell_type": "code",
      "execution_count": null,
      "metadata": {
        "id": "2Qclu6pfdLrm"
      },
      "outputs": [],
      "source": [
        "import networkx as nx"
      ]
    },
    {
      "cell_type": "markdown",
      "source": [
        "Crea directamente la gráfica"
      ],
      "metadata": {
        "id": "JjyJvfeTidk4"
      }
    },
    {
      "cell_type": "code",
      "source": [
        "G = nx.DiGraph() #grafo dirigido"
      ],
      "metadata": {
        "id": "hCQ8nRo9dSU5"
      },
      "execution_count": null,
      "outputs": []
    },
    {
      "cell_type": "markdown",
      "source": [
        "Crea los arcos de un nodo a otro"
      ],
      "metadata": {
        "id": "sCpurulki04D"
      }
    },
    {
      "cell_type": "code",
      "source": [
        "G.add_edge(\"A\",\"C\", capacity = 5 ) # Crea un arco de A a C\n",
        "G.add_edge(\"A\",\"B\", capacity = 5 ) # Crea un arco de A a B\n",
        "G.add_edge(\"B\",\"C\", capacity = 5 ) # Crea un arco de B a C\n",
        "G.add_edge(\"C\",\"D\", capacity = 5 ) # Crea un arco de C a D\n",
        "G.add_edge(\"B\",\"D\", capacity = 5 ) # Crea un arco de B a D"
      ],
      "metadata": {
        "id": "f0DJiIoMicE9"
      },
      "execution_count": null,
      "outputs": []
    },
    {
      "cell_type": "markdown",
      "source": [
        "Representa una gráfica de objeto creados usando NetworkX"
      ],
      "metadata": {
        "id": "NIpx02HSjTWS"
      }
    },
    {
      "cell_type": "code",
      "source": [
        "G  # Muestra el tipo de clase"
      ],
      "metadata": {
        "colab": {
          "base_uri": "https://localhost:8080/"
        },
        "id": "h8HVBTLfdepZ",
        "outputId": "e185c26f-4f5e-476f-98de-9c281615ef22"
      },
      "execution_count": null,
      "outputs": [
        {
          "output_type": "execute_result",
          "data": {
            "text/plain": [
              "<networkx.classes.digraph.DiGraph at 0x7de3c20956d0>"
            ]
          },
          "metadata": {},
          "execution_count": 16
        }
      ]
    },
    {
      "cell_type": "code",
      "source": [
        "nx.draw_networkx(G, node_color=\"red\") # Muestra la red creada en color rojo"
      ],
      "metadata": {
        "colab": {
          "base_uri": "https://localhost:8080/",
          "height": 406
        },
        "id": "ODCXOR49eAw5",
        "outputId": "0935771f-b440-40b5-c7bc-51dfa3e318c9"
      },
      "execution_count": null,
      "outputs": [
        {
          "output_type": "display_data",
          "data": {
            "text/plain": [
              "<Figure size 640x480 with 1 Axes>"
            ],
            "image/png": "[encoded data removed]"
          },
          "metadata": {}
        }
      ]
    },
    {
      "cell_type": "markdown",
      "source": [
        "Imprime los nombres de los nodos de la red"
      ],
      "metadata": {
        "id": "4vXl62aQjvn7"
      }
    },
    {
      "cell_type": "code",
      "source": [
        "nx.nodes(G) # Muestra A, B, C, D que son los nodos definidos, o bien, usados en esta red"
      ],
      "metadata": {
        "colab": {
          "base_uri": "https://localhost:8080/"
        },
        "id": "sfoO7VhHeIm1",
        "outputId": "1bdf96bf-11ef-4b1d-b53d-e83da9db98d4"
      },
      "execution_count": null,
      "outputs": [
        {
          "output_type": "execute_result",
          "data": {
            "text/plain": [
              "NodeView(('A', 'C', 'B', 'D'))"
            ]
          },
          "metadata": {},
          "execution_count": 18
        }
      ]
    },
    {
      "cell_type": "markdown",
      "source": [
        "Proporciona una vista de las rutas"
      ],
      "metadata": {
        "id": "Ioeeib9Tj23Y"
      }
    },
    {
      "cell_type": "code",
      "source": [
        "nx.edges(G)"
      ],
      "metadata": {
        "colab": {
          "base_uri": "https://localhost:8080/"
        },
        "id": "F7QPpU6MhH58",
        "outputId": "a460ca81-793a-4d94-db6d-9b6e3c2e434d"
      },
      "execution_count": null,
      "outputs": [
        {
          "output_type": "execute_result",
          "data": {
            "text/plain": [
              "OutEdgeView([('A', 'C'), ('A', 'B'), ('C', 'D'), ('B', 'C'), ('B', 'D')])"
            ]
          },
          "metadata": {},
          "execution_count": 19
        }
      ]
    },
    {
      "cell_type": "markdown",
      "source": [
        "Muestra el número de nodos de la red"
      ],
      "metadata": {
        "id": "ZrvIaVFNkl8G"
      }
    },
    {
      "cell_type": "code",
      "source": [
        "nx.number_of_nodes(G)"
      ],
      "metadata": {
        "colab": {
          "base_uri": "https://localhost:8080/"
        },
        "id": "pJfXcF3IhJ6R",
        "outputId": "fce2a772-3a17-4186-e363-9ebe26b6ac9a"
      },
      "execution_count": null,
      "outputs": [
        {
          "output_type": "execute_result",
          "data": {
            "text/plain": [
              "4"
            ]
          },
          "metadata": {},
          "execution_count": 20
        }
      ]
    },
    {
      "cell_type": "code",
      "source": [],
      "metadata": {
        "id": "hjBYKAr9hmSO"
      },
      "execution_count": null,
      "outputs": []
    }
  ]
}