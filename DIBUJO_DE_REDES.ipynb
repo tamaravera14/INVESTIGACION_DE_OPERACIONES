{
  "nbformat": 4,
  "nbformat_minor": 0,
  "metadata": {
    "colab": {
      "provenance": [],
      "authorship_tag": "ABX9TyNIIuCi4ZhV+pDmt7OqBrCe",
      "include_colab_link": true
    },
    "kernelspec": {
      "name": "python3",
      "display_name": "Python 3"
    },
    "language_info": {
      "name": "python"
    }
  },
  "cells": [
    {
      "cell_type": "markdown",
      "metadata": {
        "id": "view-in-github",
        "colab_type": "text"
      },
      "source": [
        "<a href=\"https://colab.research.google.com/github/tamaravera14/INVESTIGACION_DE_OPERACIONES/blob/main/DIBUJO_DE_REDES.ipynb\" target=\"_parent\"><img src=\"https://colab.research.google.com/assets/colab-badge.svg\" alt=\"Open In Colab\"/></a>"
      ]
    },
    {
      "cell_type": "markdown",
      "source": [
        "# **Dibujo de redes**\n",
        "---\n",
        "*Bazaldua Vera Tamara Alheli*"
      ],
      "metadata": {
        "id": "-0hMa3dSem_Q"
      }
    },
    {
      "cell_type": "markdown",
      "source": [
        "Dicha librería sirve para crear, analizar y visualizar networks y grafos complejos.\n",
        "Es una librería especializada en trabajar con grafos y redes. Permite:\n",
        "* Crear grafos dirigidos y no dirigidos.\n",
        "* Agregar nodos y aristas con atributos (como capacity, weight, cost).\n",
        "* Aplicar algoritmos clásicos:\n",
        "    * Flujo máximo y corte mínimo\n",
        "    * Caminos más cortos (Dijkstra, Bellman-Ford, Floyd-Warshall)\n",
        "    * Árboles generadores mínimos\n",
        "    * Centralidad, cliques, componentes conexas, etc.\n",
        "* Visualizar grafos."
      ],
      "metadata": {
        "id": "_ACSnb4ofHFc"
      }
    },
    {
      "cell_type": "code",
      "execution_count": 3,
      "metadata": {
        "id": "2Qclu6pfdLrm"
      },
      "outputs": [],
      "source": [
        "import networkx as nx"
      ]
    },
    {
      "cell_type": "markdown",
      "source": [
        "Crea directamente un grafo dirigido"
      ],
      "metadata": {
        "id": "JjyJvfeTidk4"
      }
    },
    {
      "cell_type": "code",
      "source": [
        "G = nx.DiGraph() #grafo dirigido"
      ],
      "metadata": {
        "id": "hCQ8nRo9dSU5"
      },
      "execution_count": 4,
      "outputs": []
    },
    {
      "cell_type": "markdown",
      "source": [
        "Crea los arcos de un nodo a otro, donde (punto de partida, punto de llegada, capacidad).\n",
        "Donde la capacidad suele usarse en problemas de flujo en redes (por ejemplo, flujo máximo, corte mínimo, transporte, logística, etc.)."
      ],
      "metadata": {
        "id": "sCpurulki04D"
      }
    },
    {
      "cell_type": "code",
      "source": [
        "G.add_edge(\"A\",\"C\", capacity = 5 ) # Crea un arco de A a C\n",
        "G.add_edge(\"A\",\"B\", capacity = 5 ) # Crea un arco de A a B\n",
        "G.add_edge(\"B\",\"C\", capacity = 5 ) # Crea un arco de B a C\n",
        "G.add_edge(\"C\",\"D\", capacity = 5 ) # Crea un arco de C a D\n",
        "G.add_edge(\"B\",\"D\", capacity = 5 ) # Crea un arco de B a D"
      ],
      "metadata": {
        "id": "f0DJiIoMicE9"
      },
      "execution_count": 6,
      "outputs": []
    },
    {
      "cell_type": "markdown",
      "source": [
        "Representa una gráfica de objeto creados usando NetworkX"
      ],
      "metadata": {
        "id": "NIpx02HSjTWS"
      }
    },
    {
      "cell_type": "code",
      "source": [
        "G  # Muestra el tipo de clase"
      ],
      "metadata": {
        "colab": {
          "base_uri": "https://localhost:8080/"
        },
        "id": "h8HVBTLfdepZ",
        "outputId": "b3f3f3f0-8755-49ff-df31-72c623405e2f"
      },
      "execution_count": 7,
      "outputs": [
        {
          "output_type": "execute_result",
          "data": {
            "text/plain": [
              "<networkx.classes.digraph.DiGraph at 0x7e2ccb2cc8c0>"
            ]
          },
          "metadata": {},
          "execution_count": 7
        }
      ]
    },
    {
      "cell_type": "code",
      "source": [
        "nx.draw_networkx(G, node_color=\"red\") # Muestra la red creada en color rojo"
      ],
      "metadata": {
        "colab": {
          "base_uri": "https://localhost:8080/",
          "height": 406
        },
        "id": "ODCXOR49eAw5",
        "outputId": "fbe34f04-490f-4fea-ab4d-c272c9010485"
      },
      "execution_count": 9,
      "outputs": [
        {
          "output_type": "display_data",
          "data": {
            "text/plain": [
              "<Figure size 640x480 with 1 Axes>"
            ],
            "image/png": "[encoded data removed]"
          },
          "metadata": {}
        }
      ]
    },
    {
      "cell_type": "markdown",
      "source": [
        "Imprime una lista de los nodos en el grafo, el orden puede variar porque los nodos se van agregando automáticamente cuando añades aristas.\n",
        "  * Una alternativa para este comando sería: print(G.nodes)"
      ],
      "metadata": {
        "id": "4vXl62aQjvn7"
      }
    },
    {
      "cell_type": "code",
      "source": [
        "nx.nodes(G) # Muestra A, B, C, D que son los nodos definidos, o bien, usados en esta red"
      ],
      "metadata": {
        "colab": {
          "base_uri": "https://localhost:8080/"
        },
        "id": "sfoO7VhHeIm1",
        "outputId": "30177b17-011f-47ea-ae24-5f7640533622"
      },
      "execution_count": 11,
      "outputs": [
        {
          "output_type": "execute_result",
          "data": {
            "text/plain": [
              "NodeView(('A', 'C', 'B', 'D'))"
            ]
          },
          "metadata": {},
          "execution_count": 11
        }
      ]
    },
    {
      "cell_type": "code",
      "source": [
        "print(G.nodes)"
      ],
      "metadata": {
        "id": "8TSIgLZ9IG6s",
        "outputId": "6ba1a117-7ee2-45fb-e5db-391803704dba",
        "colab": {
          "base_uri": "https://localhost:8080/"
        }
      },
      "execution_count": 12,
      "outputs": [
        {
          "output_type": "stream",
          "name": "stdout",
          "text": [
            "['A', 'C', 'B', 'D']\n"
          ]
        }
      ]
    },
    {
      "cell_type": "markdown",
      "source": [
        "Proporciona una vista de las rutas"
      ],
      "metadata": {
        "id": "Ioeeib9Tj23Y"
      }
    },
    {
      "cell_type": "code",
      "source": [
        "nx.edges(G)"
      ],
      "metadata": {
        "colab": {
          "base_uri": "https://localhost:8080/"
        },
        "id": "F7QPpU6MhH58",
        "outputId": "a460ca81-793a-4d94-db6d-9b6e3c2e434d"
      },
      "execution_count": null,
      "outputs": [
        {
          "output_type": "execute_result",
          "data": {
            "text/plain": [
              "OutEdgeView([('A', 'C'), ('A', 'B'), ('C', 'D'), ('B', 'C'), ('B', 'D')])"
            ]
          },
          "metadata": {},
          "execution_count": 19
        }
      ]
    },
    {
      "cell_type": "markdown",
      "source": [
        "Muestra el número de nodos de la red"
      ],
      "metadata": {
        "id": "ZrvIaVFNkl8G"
      }
    },
    {
      "cell_type": "code",
      "source": [
        "nx.number_of_nodes(G)"
      ],
      "metadata": {
        "colab": {
          "base_uri": "https://localhost:8080/"
        },
        "id": "pJfXcF3IhJ6R",
        "outputId": "fce2a772-3a17-4186-e363-9ebe26b6ac9a"
      },
      "execution_count": null,
      "outputs": [
        {
          "output_type": "execute_result",
          "data": {
            "text/plain": [
              "4"
            ]
          },
          "metadata": {},
          "execution_count": 20
        }
      ]
    },
    {
      "cell_type": "code",
      "source": [],
      "metadata": {
        "id": "hjBYKAr9hmSO"
      },
      "execution_count": null,
      "outputs": []
    }
  ]
}