{
  "nbformat": 4,
  "nbformat_minor": 0,
  "metadata": {
    "colab": {
      "provenance": [],
      "authorship_tag": "ABX9TyNmNlbTE0FATncGvTOuGIkh",
      "include_colab_link": true
    },
    "kernelspec": {
      "name": "python3",
      "display_name": "Python 3"
    },
    "language_info": {
      "name": "python"
    }
  },
  "cells": [
    {
      "cell_type": "markdown",
      "metadata": {
        "id": "view-in-github",
        "colab_type": "text"
      },
      "source": [
        "<a href=\"https://colab.research.google.com/github/tamaravera14/INVESTIGACION_DE_OPERACIONES/blob/main/Tablero_colores_Cadenas_de_Markov.ipynb\" target=\"_parent\"><img src=\"https://colab.research.google.com/assets/colab-badge.svg\" alt=\"Open In Colab\"/></a>"
      ]
    },
    {
      "cell_type": "markdown",
      "source": [
        "# ***Tablero de colores***\n",
        "\n",
        "---\n",
        "\n",
        "Bazaldua Vera Tamara Alheli\n",
        "\n",
        "---"
      ],
      "metadata": {
        "id": "2BOBO0gmk_Gb"
      }
    },
    {
      "cell_type": "markdown",
      "source": [
        "## **PROBABILIDAD TOTAL**"
      ],
      "metadata": {
        "id": "ARGTxdoUD-HH"
      }
    },
    {
      "cell_type": "markdown",
      "source": [
        "## Simulación de lanzamiento de dos monedas\n",
        "![circ.png](data:image/png;base64,iVBORw0KGgoAAAANSUhEUgAAAJwAAACpCAYAAADeD1RTAAAAAXNSR0IArs4c6QAAAARnQU1BAACxjwv8YQUAAAAJcEhZcwAADsMAAA7DAcdvqGQAAA40SURBVHhe7d1xcBTlHcbxL5AQLgklBo4mNiTqBKxaHGEwmIpjGxxBJWiRUsZiqZ1AKhWE0WnRCZqWDMKIoNGmteNUiKBRGrWBFjtOIxnLYKWKmqmRNC0liUqbeICkOWiOXP+4O3r7BuR2b29vb/f3YRi5590Z/3ny7u67716GBYPBIEJYZLgaCJFIUjhhKSmcsJQUTlhKCicsJYUTlpLCCUtJ4YSlpHDCUlI4YSkpnLCUFE5YSgonLCWFE5aSwglLSeGEpaRwwlJSOGEpKZywlBROWGqYvEQTxe+Hri7o6YG//x2OHIG//Q36+0N/AT75BN5+G5YDl9wA6dmhPGMMZObC2Esg50IYfwlkZMKFkzT/C7dzb+F8PujshD17YP/+UIk6OqC4OPTf81kOjFVDRXoxDHRAZgnklUDh1TDxGleX0D2F8/vh4EHYtQt27gwVLC8vNIsZEUvhziatCAKHIf8OuHQWXFEG4wrUoxzL2YXz++Hdd6GhAZ56Crze0OnSDEYLp0orCl1KX/4DmL7A0tnv1JtvcvzHP4aBATzz5+O5/XbSJk5UDzOVMwvX3g7btsHateaWLJpZhYs2Ih8yJkDJj2DqHBidqx5hqt7ycgYOHNBkObW1eObN02Rmck7h/H7Ytw+qqqCtDY4dU48wVyIKp7rkHpi5PGGzXu+cOQy8954aM/r++8leuVKNTZH6hfP7YccOqK6Gvr7EzGZnY0XhAIblQPZkuOkRuOxadTQup1paOH7ffZw+y3Vs9sqVjL7/fjWOW+oWLlK0NWtCd5tWs6pwESPyIbM4IcXzNzXx+UMPMdjbq8mz77mH0atXa7J4pWbhmpuhsjK25YtEsbpwEcNyIO9mmPOwqafagffe42hFxZDZLnvVKkbfd58mi0dqPWlob4e5c+H225NbtmQKHoNPn4dfXw+v1MB//eoRhqRfdRUXbNnCiMJCTd63eTP+l17SZPFIjRnO74enn4YNG4yvm5ktWTOcKu1imPUETCtXRwwJHDzI0cpKAsoP9LidO0mfMkWTGWH/wrW3w513hhZq7cQuhSN8mp0wH75bCyM96qhuA62t9N5yCwwOnsnSJ09m7I4dDMsOP8ozyN6n1Lo6mDHDfmWzm+Ax6HwGHr0C2v+sjuqWPnkyObW1mmygtZXPf/pTTWaEPQvn84Wu1aqrrVvmcILAIXixHH7/uDqim+e228i+915N1v/CC/Rv3arJ9LLfKbW9HWbPhkOH1BF7sdMpVTXcC2NnQMX2uE+xRysqOPnaa5psXFMT6VOnarJY2WuGa26GSy+1f9nsbrAHel6BjVdCb7c6qsuXHnqI4WO1P1nHq6s1n/WwT+FqamDhQjUV8RjogKevhUNDH1/FakRhIWPWr9dkA+++a/jUao/C1dTAY4/J9VoiBDqhfgq0NqsjMRt1001kL1+uyfobGjSfY5X8wtXUQG1t4h+2u92rC+MqXdbSpZrPA62tnHrjDU12+sgRTjz6KH11dZo8WnILFymbzGyJN9gTV+mGX3ABWRUVmsz/8suaz5/Nm0ffE09wYt06Tjz2mGYsInmFk7JZL87SeW69VfPZ/8orZ569nty9m9NRmygG3nkn6sj/S07hpGzJM9gDL880VLr0KVMY+fWva7JTf/gDAP7GRk0+cto0zecI6wtXVwfr10vZkq3pLkNLJp5y7TNb/65dDBw4MGStLuPGGzWfI6wtXHNz6OnBf/6jjgirBTpDSyYnfOrIFxo1a5bm83/37aPvmWc0mefWW0n/2tc0WYR1hevuhpkzZWazk0AnbP3+kC1Op1pa+HdpKT3XXUffU08RiFqIHz5+PKNuvllz/Mnf/lbz2bNggeZzNGsK5/fDN7+ppsIOPtsJL2ufHJxYt47TXV0EDh3ixPr19Fx3HSfWrWMwPFlklJVpjo82cvp0Mq6/Xo3PsKZwd9/t3g2TqaD9V/CXnWc+BgMBzTBAX10dvXPmcPL118n4gskjq7JSjTQSX7iGBlCmXGEzwWPwu7lnbiJGr17N8DFj1KM4/fHHHL3rLvo2bWLkWR7ee779bUad42YhIrG7Rbq7YcIENXUGO+8WMeqC2bBid+jfgQD+pib8jY2camlRjxwqLY3xLS2MKCpSRzQSO8MtWaImws6OvwMt9aF/p6XhmTeP3O3b+dLDD6tHDjFm7drzlo2EFq6+Hs6x2ixsarAH9iwesj6XtWQJYxsbyZg5U5NHZC5aROadd6rxWSXmlOrzgbKHynGceEqNGFsO9zSpKQAnd+3iRG0tgbY2SE8ne+lSXe+uJqZwS5aAshjoOE4u3LAc+FYjTD738odR5p9S29vhN79RU5FKgsdgZ+WQBWEzmF+4igrZ2+YEAx2wb4eaxs3cwjU3Q2urmopU9ac1ps9y5hbugQdkdnOSQKfps5x5hWtuDl2/CWcxeZYzr3DV1TK7OZHJs5w5hWtvl2s3J9u7Vk0MM6dwTz4ps5uTBXqhba+aGhJ/4Xy+0DeEC+cKHoM3z/3qnx7xF055N1E41KfP696OfjbxF+4c7x8KB9pn7G37aPEVrrtbdvK6yQfb1ES3+ArX1CQvxbiJv2PI1iW94ivczv/vgxcuMNgDf9X/AnU044Xz+UB5+VW4wPsvqIkuxgvX1qYmwg2OvhbXoy7jhVO+S0K4xIg8+PigmsbMeOHk+s2dTh+Btj1qGjNjhfP5ZDnEzTpC35hkhLHCJeOXqQn7OGr8ZtFY4fbvVxPhJmlF8ImxvY/GCrfXnJ0DIkUFDsNxYwv+xgonSyLikw/VJCbGCie/+0p0GuuA/sJ1d0NenpoKt+nX/vboWOkvXH8/xPkrDIUD9L6qJjExVjhZgxMG6S/cP/6hJsKtDDxT1V+4vj41EW6UWQK9XWp6XvoL9/nnaiJEzPQXTgiAfquWRYSIg+4vJKz/570svqhWjd1l9za2PjGe7Bz3Xs9+1HsxP6wdQ+7lF6tDXyyo05PBJ4O4/U9FdxCCrv978KDajvOTU6qwlBROGHLllWoSG92FyyBDjYQLjRqlJrHRXbixjv3qbqFHZyeMG6em56e7cF/my2okXOjIEcjNVdPz0104L17ykO1Jwhjdhcskk2xke5Lb3XCDmsRGd+EKKKAD2Z7kdl/5iprERnfhAEooUSPhMtOmqUlsDBWumGI1Ei4zaZKaxMZQ4a7majUSLlJUBBddpKaxkcIJ3Q4ftniGK6JIlkZcbPZsNYmdocIVUIAHjxoLl7g6jhOcocIB3MItaiRcYtYsNYmd4cLdyI1qJFzissvUJHaGCzeFKXjxqrFwuNJSY89QIwwXroACWY9zoUWL1EQfw4UDWMACNRIOlp8Pc+eqqT5xFW4+88knX42FQ40aBQUFaqpPXIUroIAJTFBj4VArVqiJfnEVDmAxi9VIOJDXC/Pnq6l+cRduIQvVSDhQcXH8p1PMKFwuudzBHWosHCQvDx54QE2NibtwAMtYJjcPDjZypPEdvipTCnct18rNg4P95CfgMenRuSmFA3iER2QHiUMtNPEy3bTClVIqL9c40Jo18T3KUplWOA8e1rJWnq86zMqVahIf0wpHeInkYnR+fZOwrQ0bzJ3dMLtwhK/l5I419RUWwvLlaho/0wtXRhnTMPgOmbAFrzc0u5l1ZxrN9MIBbGSjGokUUlxs7p1ptIQUbhKT2MxmNRYpwOuFLVvU1DwJKRxAJZXyhn4KevBB468AxiJhhfPg4Tmek2WSFFJSApWVamquhBWO8Kn1QR6U0qUArxeeey4xNwrRElo4wqfWa7hGjYWNeL1QXZ3YU2lEwgvnwUMddRRSqA4Jm5gxA5YtU9PESHjhCG9Ff4mX5NRqQ8XFsH27miaOJYUDmM50aqkliyx1SCRJYSG88Ubir9uiWVY4ws9aV7NaZjob8Hrh2WfN2Tauh6WFA6iiim/wDTUWFvJ6oaEBysrUkcSzvHAAW9lKOeVqLCyQlQXr1iWnbCSrcB48vMiLUjqLZWXB6tVQUaGOWCcphUNKZ7mcnFDZqqrUEWslrXAopZMbicTxeuEXv0h+2Uh24Ygq3QpWSOkSpKEhcduN9Ep64QiXrooqKZ3JCgvhwIHk3SCcjS0KF1FFFQ00qLEwoLQU9u6Fq65SR5LLVoUjvEW9iy7ZS2dQTg6sWgV//KP1i7qxsF3hCD973cMeVrGKHHLUYfEF6uth0yZrH1fpYcvCEb6u28Qm6qmnABv+qNqI1xv63QldXVBu81Um2xYuopxy3ud9FrNYZrtz2LgRdu+25ylUZfvCEf5KsC1soZFG+SLrsPx8WLw4NKt973vqqH2lROEiyijjAz7g5/xcHXKNvLzQuwfbtoXerkqFWS1aShWO8LXdMpbxGZ+xhjXqsKMVFsLmzbBnj73W1vRIucJF5JLLz/iZ44vn9YZ25W7dCh99FHpiYNc70FgMCwaDQTVMRT58NNDABjbgx08PPeoh5lnSDc8Y/B3cMcrPD/1O0pqa0CJuKpcsmmMKF+HHzz728TiP8xZvJaZ4CSqc1ws9PaHvZFu0yJq3qKzmuMJFi8x629hGBx3mlc/EwkVKtnQpfOc7zprNzsbRhYvmw8de9tJAA8/zPPnk8ymfqofFJs7Ceb2QnR2axWbNgqlTnV2yaK4pnKqddt7iLfazn7fDf4oo4jCH1UOH0lG44mLo6Ah9C3hpaegd0MsvT73lDLO4tnAqP3666KKHHj7kQ9po41/8i376eZVXtQfffRh+qX2xu6QELrwQxo2DiRNDSxhf/SpkZjrzWswoKZywVMquw4nUJIUTlpLCCUtJ4YSlpHDCUlI4YSkpnLCUFE5YSgonLCWFE5aSwglLSeGEpaRwwlJSOGEpKZywlBROWOp/x2pZ6JvtvT4AAAAASUVORK5CYII=)\n",
        "*Supongamos que tenemos en un tablero con cuatro sectores. Lanzamos dos monedas y avanzamos, en sentido horario, el número de caras que aparezcan. Si repetimos el procedimiento….*\n",
        "\n",
        "**¿Son todos los sectores igual de probables cuando pase mucho tiempo?**"
      ],
      "metadata": {
        "id": "kNyZylUy0q8z"
      }
    },
    {
      "cell_type": "markdown",
      "source": [
        "***Solución Analítica.***"
      ],
      "metadata": {
        "id": "bkJnxO3rcUcX"
      }
    },
    {
      "cell_type": "markdown",
      "source": [
        "# **Descripción del experimento**\n",
        "\n",
        "La **variable de estado** es la posición de la ficha:**verde, naranja, azul, rojo.**\n",
        "\n",
        "Las posibles salidas de las monedas son:\n",
        "\n",
        "$CC, CX, XC, XX \\Rightarrow$ todas con probabilidad  $\\frac{1}{4}$\n",
        "\n",
        "\n",
        "Denotamos:\n",
        "\n",
        "* $x_n$: probabilidad del sector naranja tras $n$ lanzamientos.\n",
        "* $y_n$: probabilidad del sector azul tras $n$ lanzamientos.\n",
        "* $z_n$: probabilidad del sector verde tras $n$ lanzamientos.\n",
        "* $t_n$: probabilidad del sector rojo tras $n$ lanzamientos.\n",
        "\n",
        "## **Cálculo de probabilidades usando el Teorema de la Probabilidad Total**\n",
        "\n",
        "### Ecuaciones de transición basadas en el teorema de la probabilidad total $(n=1)$\n",
        "\n",
        "1. $x_1:$ probabilidad de estar en naranja tras un paso\n",
        "   * $x_1 = \\frac{1}{4}x_0 + 0 \\cdot y_0 + \\frac{1}{4}z_0 + \\frac{1}{2}t_0$\n",
        "\n",
        "2. $y_1:$ probabilidad de estar en azul tras un paso\n",
        "  * $y_1 = \\frac{1}{2}x_0 + \\frac{1}{4}y_0 + 0 \\cdot z_0 + \\frac{1}{4}t_0$\n",
        "\n",
        "3. $z_1:$ probabilidad de estar en verde tras un paso\n",
        "  * $z_1 = \\frac{1}{4}x_0 + \\frac{1}{2}y_0 +\\frac{1}{4}z_0 + 0 \\cdot t_0$\n",
        "\n",
        "4. $t_1:$ probabilidad de estar en rojo tras un paso\n",
        "  * $t_1 = 0 \\cdot x_0 + \\frac{1}{4}y_0 + \\frac{1}{2}z_0 + \\frac{1}{4}t_0$\n",
        "\n",
        "\n",
        "**Nota:**\n",
        "Estas expresiones surgen al aplicar el Teorema de la Probabilidad Total:\n",
        "\n",
        "$\n",
        "P(A) = P(A \\mid B_1)P(B_1) + P(A \\mid B_2)P(B_2) + \\dots + P(A \\mid B_n)P(B_n)\n",
        "$\n",
        "\n"
      ],
      "metadata": {
        "id": "U-Bw_WXOcVwl"
      }
    },
    {
      "cell_type": "markdown",
      "source": [
        "## ***Modelo de Transición Estocástico***\n",
        "\n",
        "Análogamente para $( n = 2 )$ se continúa el proceso utilizando los valores obtenidos de $( x_1, y_1, z_1, t_1 )$\n",
        "\n",
        "En general, el sistema de probabilidades se expresa matricialmente como:\n",
        "\n",
        "$$\n",
        "\\begin{pmatrix}\n",
        "x_n \\\\\n",
        "y_n \\\\\n",
        "z_n \\\\\n",
        "t_n\n",
        "\\end{pmatrix}\n",
        "=\n",
        "\\begin{pmatrix}\n",
        "\\frac{1}{4} & 0 & \\frac{1}{4} & \\frac{2}{4} \\\\\n",
        "\\frac{1}{2} & \\frac{1}{4} & 0 & \\frac{1}{4} \\\\\n",
        "\\frac{1}{4} & \\frac{1}{2} & \\frac{1}{4} & 0 \\\\\n",
        "0 & \\frac{1}{4} & \\frac{1}{2} & \\frac{1}{4}\n",
        "\\end{pmatrix}\n",
        "\\begin{pmatrix}\n",
        "x_{n-1} \\\\\n",
        "y_{n-1} \\\\\n",
        "z_{n-1} \\\\\n",
        "t_{n-1}\n",
        "\\end{pmatrix}\n",
        "$$\n",
        "\n",
        "Denotando:\n",
        "\n",
        "$$\n",
        "\\mathbf{x}_n = A \\mathbf{x}_{n-1}\n",
        "\\quad \\Rightarrow \\quad\n",
        "\\mathbf{x}_n = A^n \\mathbf{x}_0\n",
        "$$\n",
        "\n",
        "Para resolver el problema debemos calcular $( A^n ).$"
      ],
      "metadata": {
        "id": "AUlWco1Gd75J"
      }
    },
    {
      "cell_type": "markdown",
      "source": [
        "---\n",
        "\n",
        "# ***Solución Analítica:***\n",
        "\n",
        "---"
      ],
      "metadata": {
        "id": "f8g4mVi0hRS4"
      }
    },
    {
      "cell_type": "markdown",
      "source": [
        "### ***Problema:***\n",
        "\n",
        "Supongamos que tenemos un tablero con cuatro sectores. Lanzamos dos monedas y avanzamos, en sentido horario, el número de caras que aparezcan. Queremos saber:\n",
        "\n",
        "$$\\textit{¿Son todos los sectores igual de probables cuando pase mucho tiempo?}$$\n",
        "\n",
        "**Matriz de transición**\n",
        "\n",
        "$$\n",
        "A =\n",
        "\\begin{pmatrix}\n",
        "\\frac{1}{4} & 0 & \\frac{1}{4} & \\frac{2}{4} \\\\\n",
        "\\frac{1}{2} & \\frac{1}{4} & 0 & \\frac{1}{4} \\\\\n",
        "\\frac{1}{4} & \\frac{1}{2} & \\frac{1}{4} & 0 \\\\\n",
        "0 & \\frac{1}{4} & \\frac{1}{2} & \\frac{1}{4}\n",
        "\\end{pmatrix}\n",
        "$$\n",
        "\n",
        "**Distribución estacionaria**\n",
        "\n",
        "Buscamos la solución al sistema:\n",
        "\n",
        "$$\n",
        "\\begin{cases}\n",
        "x_n = \\frac{1}{4}x_n + \\frac{1}{2}y_n + \\frac{1}{4}z_n \\\\\n",
        "y_n = \\frac{1}{4}y_n + \\frac{1}{2}z_n + \\frac{1}{4}t_n \\\\\n",
        "z_n = \\frac{1}{4}x_n + \\frac{1}{4}z_n + \\frac{1}{2}t_n \\\\\n",
        "t_n = \\frac{1}{2}x_n + \\frac{1}{4}y_n + \\frac{1}{4}t_n \\\\\n",
        "x_n + y_n + z_n + t_n = 1\n",
        "\\end{cases}\n",
        "$$\n",
        "\n",
        "**Solución:**\n",
        "\n",
        "Resolviendo el sistema anterior, se obtiene:\n",
        "\n",
        "$$\n",
        "x_n = y_n = z_n = t_n = \\frac{1}{4}\n",
        "$$\n",
        "\n",
        "Todos los sectores son igual de probables cuando pasa mucho tiempo:\n",
        "\n",
        "$$\n",
        "\\boxed{\n",
        "x_n = y_n = z_n = t_n = \\frac{1}{4}\n",
        "}\n",
        "$$"
      ],
      "metadata": {
        "id": "15uX_Qg1hWEd"
      }
    },
    {
      "cell_type": "markdown",
      "source": [
        "---\n",
        "\n",
        "# ***Solución:***\n",
        "\n",
        "---"
      ],
      "metadata": {
        "id": "ajtR2O65iJ8g"
      }
    },
    {
      "cell_type": "code",
      "execution_count": 4,
      "metadata": {
        "id": "e3OE5L9-C1c7"
      },
      "outputs": [],
      "source": [
        "import matplotlib.pyplot as plt\n",
        "import numpy as np"
      ]
    },
    {
      "cell_type": "markdown",
      "source": [
        "**Función matriz_recursion(A,n)**\n",
        "\n",
        "Realiza la multiplicación de una matriz por sí misma repetidamente, es decir, calcula la matriz $A_n$ utilizando recursión.\n",
        "\n",
        "**Objetivo**\n",
        "\n",
        "Multiplicar n veces la matriz A, para obtener la matriz de recursión para estimar los valores de $x_n,y_n,z_n,t_n$.\n",
        "\n",
        "**Simbología**\n",
        "\n",
        "* n := Potencia a la cual elevaremos la matriz de transición.\n",
        "* A := Matriz de transición."
      ],
      "metadata": {
        "id": "jYsxFp7o231Q"
      }
    },
    {
      "cell_type": "code",
      "source": [
        "# Multiplicar matriz a la n potencia\n",
        "def matriz_recursion(A, n):\n",
        "    if A.shape[0] != A.shape[1]:    # Compara las dimensiones de la matriz para verificar que sea una matriz cuadrada y pueda hacer la multiplicacion\n",
        "        raise ValueError(\"La matriz debe ser cuadrada\")\n",
        "    if n < 0:   # Verifica que sea una potencia positiva\n",
        "        raise ValueError(\"El exponente n debe ser un número no negativo\")\n",
        "\n",
        "    result = np.eye(A.shape[0])  # Empezar con la matriz identidad\n",
        "    for _ in range(n):\n",
        "        result = np.dot(result, A)\n",
        "    return result\n",
        "\n",
        "# Definimos la matriz A\n",
        "A = np.array([\n",
        " [1/4, 0, 1/4, 2/4],\n",
        " [2/4, 1/4, 0, 1/4],\n",
        " [1/4, 2/4, 1/4, 0],\n",
        " [0, 1/4, 2/4, 1/4]\n",
        " ])\n",
        "\n",
        "# Multiplicamos A a la n-ésima potencia\n",
        "mat_rec = matriz_recursion(A, 30)\n",
        "print(mat_rec)\n"
      ],
      "metadata": {
        "id": "paStnMIiux2V",
        "colab": {
          "base_uri": "https://localhost:8080/"
        },
        "outputId": "ae21c38d-0276-4bb9-d395-f3044447cc28"
      },
      "execution_count": 36,
      "outputs": [
        {
          "output_type": "stream",
          "name": "stdout",
          "text": [
            "[[0.25 0.25 0.25 0.25]\n",
            " [0.25 0.25 0.25 0.25]\n",
            " [0.25 0.25 0.25 0.25]\n",
            " [0.25 0.25 0.25 0.25]]\n"
          ]
        }
      ]
    },
    {
      "cell_type": "markdown",
      "source": [
        "**Función mostrar_probabilidades(A, estado_inicial, n)**\n",
        "\n",
        "Almacenan las probabilidades de cada uno de los estados $(x, y, z, t)$ en cada iteración. Se empieza con valores iniciales $[1,0,0,0]$, lo que indica que al principio todo el sistema está en el estado $x_0$, tomando el primer eigenvector\n",
        "\n",
        "En cada iteración, se calculan las nuevas probabilidades para cada estado a partir de los valores anteriores. Cada nuevo valor se obtiene aplicando los coeficientes de la matriz de transición a los valores anteriores de $(x_i, y_i, z_i, t_i)$.\n",
        "\n",
        "Estas ecuaciones corresponden a una multiplicación de la matriz de transición con el vector de estado en el instante $n-1$.\n",
        "\n",
        "$(x, y, z, t)$ contendrán los valores de las probabilidades de cada estado en cada paso del proceso de transición."
      ],
      "metadata": {
        "id": "TP_92OQ23cjA"
      }
    },
    {
      "cell_type": "code",
      "source": [
        "def mostrar_probabilidades(A, estado_inicial, n):\n",
        "    # Imprimir encabezado de la tabla\n",
        "    print(\"Periodo   |   x     |    y    |    z    |   t    \")\n",
        "    print(\"----------|---------|---------|---------|--------\")\n",
        "\n",
        "    # Mostrar el estado inicial (periodo 0)\n",
        "    estado = estado_inicial\n",
        "    print(f\"{0:<9} | {estado[0]:.4f}  | {estado[1]:.4f}  | {estado[2]:.4f}  | {estado[3]:.4f}\")\n",
        "\n",
        "    x=[]\n",
        "    y=[]\n",
        "    z=[]\n",
        "    t=[]\n",
        "    # Cálculo de las probabilidades en cada iteración y mostrar en la tabla\n",
        "    for i in range(1, n + 1):\n",
        "        estado = np.dot(A, estado)\n",
        "        print(f\"{i:<9} | {estado[0]:.4f}  | {estado[1]:.4f}  | {estado[2]:.4f}  | {estado[3]:.4f}\")\n",
        "\n",
        "        x.append(estado[0])\n",
        "        y.append(estado[1])\n",
        "        z.append(estado[2])\n",
        "        t.append(estado[3])\n",
        "\n",
        "    return x,y,z,t\n",
        "\n",
        "# Definir el estado inicial\n",
        "estado_inicial = np.array([1, 0, 0, 0])\n",
        "\n",
        "# Número de iteraciones\n",
        "n = 30\n",
        "\n",
        "# Llamar a la función\n",
        "x,y,z,t = mostrar_probabilidades(A, estado_inicial, n)"
      ],
      "metadata": {
        "id": "MOZYTljIuzyF",
        "colab": {
          "base_uri": "https://localhost:8080/"
        },
        "outputId": "382c6acd-a28c-485f-dc38-9959fec108b5"
      },
      "execution_count": 38,
      "outputs": [
        {
          "output_type": "stream",
          "name": "stdout",
          "text": [
            "Periodo   |   x     |    y    |    z    |   t    \n",
            "----------|---------|---------|---------|--------\n",
            "0         | 1.0000  | 0.0000  | 0.0000  | 0.0000\n",
            "1         | 0.2500  | 0.5000  | 0.2500  | 0.0000\n",
            "2         | 0.1250  | 0.2500  | 0.3750  | 0.2500\n",
            "3         | 0.2500  | 0.1875  | 0.2500  | 0.3125\n",
            "4         | 0.2812  | 0.2500  | 0.2188  | 0.2500\n",
            "5         | 0.2500  | 0.2656  | 0.2500  | 0.2344\n",
            "6         | 0.2422  | 0.2500  | 0.2578  | 0.2500\n",
            "7         | 0.2500  | 0.2461  | 0.2500  | 0.2539\n",
            "8         | 0.2520  | 0.2500  | 0.2480  | 0.2500\n",
            "9         | 0.2500  | 0.2510  | 0.2500  | 0.2490\n",
            "10        | 0.2495  | 0.2500  | 0.2505  | 0.2500\n",
            "11        | 0.2500  | 0.2498  | 0.2500  | 0.2502\n",
            "12        | 0.2501  | 0.2500  | 0.2499  | 0.2500\n",
            "13        | 0.2500  | 0.2501  | 0.2500  | 0.2499\n",
            "14        | 0.2500  | 0.2500  | 0.2500  | 0.2500\n",
            "15        | 0.2500  | 0.2500  | 0.2500  | 0.2500\n",
            "16        | 0.2500  | 0.2500  | 0.2500  | 0.2500\n",
            "17        | 0.2500  | 0.2500  | 0.2500  | 0.2500\n",
            "18        | 0.2500  | 0.2500  | 0.2500  | 0.2500\n",
            "19        | 0.2500  | 0.2500  | 0.2500  | 0.2500\n",
            "20        | 0.2500  | 0.2500  | 0.2500  | 0.2500\n",
            "21        | 0.2500  | 0.2500  | 0.2500  | 0.2500\n",
            "22        | 0.2500  | 0.2500  | 0.2500  | 0.2500\n",
            "23        | 0.2500  | 0.2500  | 0.2500  | 0.2500\n",
            "24        | 0.2500  | 0.2500  | 0.2500  | 0.2500\n",
            "25        | 0.2500  | 0.2500  | 0.2500  | 0.2500\n",
            "26        | 0.2500  | 0.2500  | 0.2500  | 0.2500\n",
            "27        | 0.2500  | 0.2500  | 0.2500  | 0.2500\n",
            "28        | 0.2500  | 0.2500  | 0.2500  | 0.2500\n",
            "29        | 0.2500  | 0.2500  | 0.2500  | 0.2500\n",
            "30        | 0.2500  | 0.2500  | 0.2500  | 0.2500\n"
          ]
        }
      ]
    },
    {
      "cell_type": "code",
      "source": [
        "#Mostrar resultados\n",
        "plt.plot(x, label='x', color=\"orange\")\n",
        "plt.plot(y, label='y', color=\"blue\")\n",
        "plt.plot(z, label='z', color=\"green\")\n",
        "plt.plot(t, label='t', color=\"red\")\n",
        "plt.legend()\n",
        "plt.show()"
      ],
      "metadata": {
        "colab": {
          "base_uri": "https://localhost:8080/",
          "height": 430
        },
        "id": "sT6SKUVFjV77",
        "outputId": "47d1ad4f-2590-4e19-95a1-e7ab19588cec"
      },
      "execution_count": 35,
      "outputs": [
        {
          "output_type": "display_data",
          "data": {
            "text/plain": [
              "<Figure size 640x480 with 1 Axes>"
            ],
            "image/png": "[encoded data removed]"
          },
          "metadata": {}
        }
      ]
    },
    {
      "cell_type": "markdown",
      "source": [
        "Todos los sectores son igual de probables cuando pasa mucho tiempo:\n",
        "\n",
        "$$\n",
        "\\boxed{\n",
        "x_n ≈ y_n ≈ z_n ≈ t_n ≈ \\frac{1}{4}\n",
        "}\n",
        "$$"
      ],
      "metadata": {
        "id": "nib_dXGriSiT"
      }
    }
  ]
}